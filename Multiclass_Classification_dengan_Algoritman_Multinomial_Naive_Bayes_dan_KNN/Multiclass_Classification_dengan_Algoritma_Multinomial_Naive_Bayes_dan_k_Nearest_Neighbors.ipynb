{
  "nbformat": 4,
  "nbformat_minor": 0,
  "metadata": {
    "colab": {
      "provenance": [],
      "authorship_tag": "ABX9TyMyRV2+3nPrVdMfx7wO9jYk",
      "include_colab_link": true
    },
    "kernelspec": {
      "name": "python3",
      "display_name": "Python 3"
    },
    "language_info": {
      "name": "python"
    }
  },
  "cells": [
    {
      "cell_type": "markdown",
      "metadata": {
        "id": "view-in-github",
        "colab_type": "text"
      },
      "source": [
        "<a href=\"https://colab.research.google.com/github/fikarrizkip/projects/blob/main/Multiclass_Classification_dengan_Algoritma_Multinomial_Naive_Bayes_dan_k_Nearest_Neighbors.ipynb\" target=\"_parent\"><img src=\"https://colab.research.google.com/assets/colab-badge.svg\" alt=\"Open In Colab\"/></a>"
      ]
    },
    {
      "cell_type": "code",
      "execution_count": null,
      "metadata": {
        "id": "XdwNotol21oP"
      },
      "outputs": [],
      "source": [
        "import pandas as pd\n",
        "df = pd.read_excel('https://storage.googleapis.com/dqlab-dataset/credit_scoring_dqlab.xlsx')"
      ]
    },
    {
      "cell_type": "code",
      "source": [
        "print(df.head(5))"
      ],
      "metadata": {
        "colab": {
          "base_uri": "https://localhost:8080/"
        },
        "id": "Id096Tim3LwP",
        "outputId": "21fd71d2-5c15-4342-d8ab-9770862be0aa"
      },
      "execution_count": null,
      "outputs": [
        {
          "output_type": "stream",
          "name": "stdout",
          "text": [
            "  kode_kontrak  pendapatan_setahun_juta kpr_aktif  durasi_pinjaman_bulan  \\\n",
            "0   AGR-000001                      295        YA                     48   \n",
            "1   AGR-000011                      271        YA                     36   \n",
            "2   AGR-000030                      159     TIDAK                     12   \n",
            "3   AGR-000043                      210        YA                     12   \n",
            "4   AGR-000049                      165     TIDAK                     36   \n",
            "\n",
            "   jumlah_tanggungan rata_rata_overdue  risk_rating  \n",
            "0                  5      61 - 90 days            4  \n",
            "1                  5      61 - 90 days            4  \n",
            "2                  0       0 - 30 days            1  \n",
            "3                  3      46 - 60 days            3  \n",
            "4                  0      31 - 45 days            2  \n"
          ]
        }
      ]
    },
    {
      "cell_type": "code",
      "source": [
        "df.drop('kode_kontrak', axis=1, inplace=True)"
      ],
      "metadata": {
        "id": "qrmri9Y_3a3E"
      },
      "execution_count": null,
      "outputs": []
    },
    {
      "cell_type": "code",
      "source": [
        "#memeriksa rasio kemunculan label\n",
        "print('Rasio kemunculan  label:')\n",
        "print(pd.concat([df['risk_rating'].value_counts(), 100*df['risk_rating'].value_counts(normalize=True).rename('percentage_risk_rating')], axis=1))\n",
        "\n",
        "#menyimpan kolom 'rating' sebagai list ke dalam variabel y\n",
        "y = df.pop('risk_rating').to_list()\n",
        "\n",
        "#untuk setiap label jika nilai label = 5 maka kembalikan nilai 4\n",
        "y = [4 if label == 5 else label for label in y]\n",
        "\n",
        "#mengubah tipe data dari array y menjadi numpy array hal ini dikarenakan beberapa fungsi library scikit-learn hanya kompatibel terhadap numpy array\n",
        "import numpy as np\n",
        "y = np.array(y)\n",
        "\n",
        "print('\\nDataset:')\n",
        "print(df.head())"
      ],
      "metadata": {
        "colab": {
          "base_uri": "https://localhost:8080/"
        },
        "id": "wt-FcER930zc",
        "outputId": "480cdbfc-7188-4108-d469-a479ccb666d3"
      },
      "execution_count": null,
      "outputs": [
        {
          "output_type": "stream",
          "name": "stdout",
          "text": [
            "Rasio kemunculan  label:\n",
            "   risk_rating  percentage_risk_rating\n",
            "3          291               32.333333\n",
            "1          227               25.222222\n",
            "2          159               17.666667\n",
            "4          120               13.333333\n",
            "5          103               11.444444\n",
            "\n",
            "Dataset:\n",
            "   pendapatan_setahun_juta kpr_aktif  durasi_pinjaman_bulan  \\\n",
            "0                      295        YA                     48   \n",
            "1                      271        YA                     36   \n",
            "2                      159     TIDAK                     12   \n",
            "3                      210        YA                     12   \n",
            "4                      165     TIDAK                     36   \n",
            "\n",
            "   jumlah_tanggungan rata_rata_overdue  \n",
            "0                  5      61 - 90 days  \n",
            "1                  5      61 - 90 days  \n",
            "2                  0       0 - 30 days  \n",
            "3                  3      46 - 60 days  \n",
            "4                  0      31 - 45 days  \n"
          ]
        }
      ]
    },
    {
      "cell_type": "code",
      "source": [
        "#menyiapkan fungsi untuk mengubah nilai kpr_aktif\n",
        "def convert_kpr_aktif(kpr_aktif):\n",
        "\tif kpr_aktif == 'YA':\n",
        "\t\treturn 1\n",
        "\treturn 0\n",
        "\n",
        "#mengubah setiap nilai pada kolom kpr aktif menggunakan fungsi 'convert_kpr_aktif'\n",
        "df['kpr_aktif']= df['kpr_aktif'].apply(convert_kpr_aktif)\n",
        "print(df.head())"
      ],
      "metadata": {
        "colab": {
          "base_uri": "https://localhost:8080/"
        },
        "id": "bQlXAAqT389g",
        "outputId": "54985b21-f3fe-496a-e222-bef14f82bbf6"
      },
      "execution_count": null,
      "outputs": [
        {
          "output_type": "stream",
          "name": "stdout",
          "text": [
            "   pendapatan_setahun_juta  kpr_aktif  durasi_pinjaman_bulan  \\\n",
            "0                      295          1                     48   \n",
            "1                      271          1                     36   \n",
            "2                      159          0                     12   \n",
            "3                      210          1                     12   \n",
            "4                      165          0                     36   \n",
            "\n",
            "   jumlah_tanggungan rata_rata_overdue  \n",
            "0                  5      61 - 90 days  \n",
            "1                  5      61 - 90 days  \n",
            "2                  0       0 - 30 days  \n",
            "3                  3      46 - 60 days  \n",
            "4                  0      31 - 45 days  \n"
          ]
        }
      ]
    },
    {
      "cell_type": "code",
      "source": [
        "#rasio kemunculan setiap kategori rata_rata_overdue\n",
        "print('Rasio kemunculan  setiap kategori rata_rata_overdue:')\n",
        "print(pd.concat([df['rata_rata_overdue'].value_counts(), 100*df['rata_rata_overdue'].value_counts(normalize=True).rename('percentage_rata_rata_overdue')], axis=1))\n",
        "\n",
        "#fungsi untuk mengubah nilai dari kolom 'rata_rata_overdue'\n",
        "def change_overdue(overdue):\n",
        "\tif overdue == '0 - 30 days':\n",
        "\t\treturn 0\n",
        "\telif overdue == '31 - 45 days':\n",
        "\t\treturn 1\n",
        "\telif overdue == '46 - 60 days':\n",
        "\t\treturn 2\n",
        "\telif overdue == '61 - 90 days':\n",
        "\t\treturn 3\n",
        "\telse:\n",
        "\t\treturn 4\n",
        "\n",
        "#mengaplikasikan fungsi pada kolom 'rata_rata_overdue'\n",
        "df['rata_rata_overdue'] = df['rata_rata_overdue'].apply(change_overdue)\n",
        "\n",
        "print(\"\\nLima baris dataset teratas:\")\n",
        "print(df.head())"
      ],
      "metadata": {
        "colab": {
          "base_uri": "https://localhost:8080/"
        },
        "id": "X_VdBM3g4gHh",
        "outputId": "1b422008-1dd6-4cad-b3bf-0e00d75dfd47"
      },
      "execution_count": null,
      "outputs": [
        {
          "output_type": "stream",
          "name": "stdout",
          "text": [
            "Rasio kemunculan  setiap kategori rata_rata_overdue:\n",
            "              rata_rata_overdue  percentage_rata_rata_overdue\n",
            "46 - 60 days                291                     32.333333\n",
            "0 - 30 days                 227                     25.222222\n",
            "31 - 45 days                159                     17.666667\n",
            "61 - 90 days                120                     13.333333\n",
            "> 90 days                   103                     11.444444\n",
            "\n",
            "Lima baris dataset teratas:\n",
            "   pendapatan_setahun_juta  kpr_aktif  durasi_pinjaman_bulan  \\\n",
            "0                      295          1                     48   \n",
            "1                      271          1                     36   \n",
            "2                      159          0                     12   \n",
            "3                      210          1                     12   \n",
            "4                      165          0                     36   \n",
            "\n",
            "   jumlah_tanggungan  rata_rata_overdue  \n",
            "0                  5                  3  \n",
            "1                  5                  3  \n",
            "2                  0                  0  \n",
            "3                  3                  2  \n",
            "4                  0                  1  \n"
          ]
        }
      ]
    },
    {
      "cell_type": "code",
      "source": [
        "#merepresentasikan seluruh kolom dalam df sebagai matrik dan menampungnya dalam variabel X.\n",
        "X = df.to_numpy()\n",
        "\n",
        "#menampilkan informasi dimensi dari variabel X\n",
        "print('Dimensi dari variabel X:', X.shape)"
      ],
      "metadata": {
        "colab": {
          "base_uri": "https://localhost:8080/"
        },
        "id": "NsQdsljP4xzj",
        "outputId": "b67b1fef-bbf8-4f5a-9fe5-432eb0bb2765"
      },
      "execution_count": null,
      "outputs": [
        {
          "output_type": "stream",
          "name": "stdout",
          "text": [
            "Dimensi dari variabel X: (900, 5)\n"
          ]
        }
      ]
    },
    {
      "cell_type": "code",
      "source": [
        "#library yang akan kita gunakan untuk membagi dataset menggunakan strategi validasi KFold\n",
        "from sklearn.model_selection import KFold\n",
        "\n",
        "#menginisialisasi object KFold dengan jumlah kelompok data = 5 nilai random_state kita gunakan reproducibility (agar data acak yang kita dapatkan untuk setiap kelompok data selalu sama)\n",
        "kf = KFold(n_splits = 5, shuffle=True, random_state = 57)\n",
        "\n",
        "#meminta object kf untuk memecah data X ke sejumlah n kelompok dan mengiterasi setiap train_index dan test_index\n",
        "for i, (train_index, test_index) in enumerate(kf.split(X)):\n",
        "\tX_train, y_train = X[train_index], y[train_index]\n",
        "\tX_test, y_test = X[test_index], y[test_index]\n",
        "\n",
        "\tprint(\"Percobaan ke-\", i+1)\n",
        "\tprint(\"10 indeks data latih pertama:\", train_index[:10])\n",
        "\tprint(\"10 indeks data testing pertama:\", test_index[:10])\n",
        "\tprint(\"============================================================\")"
      ],
      "metadata": {
        "colab": {
          "base_uri": "https://localhost:8080/"
        },
        "id": "n2YD6Q075Jz-",
        "outputId": "4c8355a3-983e-4224-ec4e-8673cdcbbe18"
      },
      "execution_count": null,
      "outputs": [
        {
          "output_type": "stream",
          "name": "stdout",
          "text": [
            "Percobaan ke- 1\n",
            "10 indeks data latih pertama: [ 0  1  2  3  4  5  6  7  8 13]\n",
            "10 indeks data testing pertama: [ 9 10 11 12 15 25 29 32 44 52]\n",
            "============================================================\n",
            "Percobaan ke- 2\n",
            "10 indeks data latih pertama: [ 0  2  4  5  6  8  9 10 11 12]\n",
            "10 indeks data testing pertama: [ 1  3  7 14 20 28 37 43 49 59]\n",
            "============================================================\n",
            "Percobaan ke- 3\n",
            "10 indeks data latih pertama: [ 0  1  2  3  4  5  6  7  9 10]\n",
            "10 indeks data testing pertama: [ 8 13 22 23 27 30 31 33 38 39]\n",
            "============================================================\n",
            "Percobaan ke- 4\n",
            "10 indeks data latih pertama: [ 1  3  4  5  6  7  8  9 10 11]\n",
            "10 indeks data testing pertama: [ 0  2 16 17 19 21 24 35 36 42]\n",
            "============================================================\n",
            "Percobaan ke- 5\n",
            "10 indeks data latih pertama: [ 0  1  2  3  7  8  9 10 11 12]\n",
            "10 indeks data testing pertama: [ 4  5  6 18 26 34 40 47 50 54]\n",
            "============================================================\n"
          ]
        }
      ]
    },
    {
      "cell_type": "code",
      "source": [
        "#library yang digunakan untuk menggunakan model MNB\n",
        "from sklearn.naive_bayes import MultinomialNB\n",
        "from sklearn.metrics import accuracy_score\n",
        "\n",
        "scores_test = []\n",
        "scores_train = []\n",
        "\n",
        "#meminta object kf untuk memecah data X ke sejumlah n kelompok dan mengiterasi setiap train_index dan test_index\n",
        "for i, (train_index, test_index) in enumerate(kf.split(X)):\n",
        "    X_train, y_train = X[train_index], y[train_index]\n",
        "    X_test, y_test = X[test_index], y[test_index]\n",
        "    model = MultinomialNB()\n",
        "    #menspesifikasikan data latih beserta labelnya untuk dipelajari oleh model\n",
        "    model.fit(X_train, y_train)\n",
        "    print(f'Selesai melatih data dengan strategi validasi 5-Fold ke-{i+1}.')"
      ],
      "metadata": {
        "colab": {
          "base_uri": "https://localhost:8080/"
        },
        "id": "OHkwuX_a5tuk",
        "outputId": "a98b6105-9a8a-47d5-c746-fc1da938ffdc"
      },
      "execution_count": null,
      "outputs": [
        {
          "output_type": "stream",
          "name": "stdout",
          "text": [
            "Selesai melatih data dengan strategi validasi 5-Fold ke-1.\n",
            "Selesai melatih data dengan strategi validasi 5-Fold ke-2.\n",
            "Selesai melatih data dengan strategi validasi 5-Fold ke-3.\n",
            "Selesai melatih data dengan strategi validasi 5-Fold ke-4.\n",
            "Selesai melatih data dengan strategi validasi 5-Fold ke-5.\n"
          ]
        }
      ]
    },
    {
      "cell_type": "code",
      "source": [
        "#meminta object kf untuk memecah data X ke sejumlah n kelompok dan mengiterasi setiap train_index dan test_index\n",
        "for train_index, test_index in kf.split(X):\n",
        "\tX_train, y_train = X[train_index], y[train_index]\n",
        "\tX_test, y_test = X[test_index], y[test_index]\n",
        "\tmodel = MultinomialNB()\n",
        "\n",
        "\t#menspesifikasikan data latih beserta labelnya untuk dipelajari oleh model\n",
        "\tmodel.fit(X_train, y_train)\n",
        "\n",
        "\t#meminta model yang telah dilatih untuk memprediksi data X_train\n",
        "\t#menampung hasil prediksi ke dalam variabel y_pred\n",
        "\ty_pred = model.predict(X_train)\n",
        "\n",
        "\t#menampung akurasi dari model ke variabel current_score\n",
        "\tcurrent_score = accuracy_score(y_train, y_pred)\n",
        "\n",
        "\t#menambahkan skor saat ini ke list scores\n",
        "\tscores_train.append(current_score)\n",
        "\n",
        "\t#meminta model yang telah dilatih untuk memprediksi data X_test\n",
        "\t#menampung hasil prediksi ke dalam variabel y_pred\n",
        "\ty_pred = model.predict(X_test)\n",
        "\n",
        "\t#menampung akurasi dari model ke variabel current_score\n",
        "\tcurrent_score = accuracy_score(y_test, y_pred)\n",
        "\n",
        "\t#menambahkan skor saat ini ke list scores\n",
        "\tscores_test.append(current_score)\n",
        "\n",
        "print(\"Skor latih tertinggi: \", round(max(scores_train),2))\n",
        "print(\"Skor latih terendah: \", round(min(scores_train),2))\n",
        "print(\"Skor latih rata-rata: \", round(sum(scores_train)/len(scores_train),2))\n",
        "\n",
        "print(\"Skor testing tertinggi: \", round(max(scores_test),2))\n",
        "print(\"Skor testing terendah: \", round(min(scores_test),2))\n",
        "print(\"Skor testing rata-rata: \", round(sum(scores_test))/len(scores_test),2)"
      ],
      "metadata": {
        "colab": {
          "base_uri": "https://localhost:8080/"
        },
        "id": "duLwxq8j58zh",
        "outputId": "b9a65030-52c9-4f22-bb6e-5e45b3d24577"
      },
      "execution_count": null,
      "outputs": [
        {
          "output_type": "stream",
          "name": "stdout",
          "text": [
            "Skor latih tertinggi:  0.71\n",
            "Skor latih terendah:  0.68\n",
            "Skor latih rata-rata:  0.7\n",
            "Skor testing tertinggi:  0.76\n",
            "Skor testing terendah:  0.65\n",
            "Skor testing rata-rata:  0.6 2\n"
          ]
        }
      ]
    },
    {
      "cell_type": "markdown",
      "source": [
        "Inisialisasi, Pelatihan dan Evaluasi Model Klasifikasi dengan Metode k-NN"
      ],
      "metadata": {
        "id": "JOQ-6E6J8g4M"
      }
    },
    {
      "cell_type": "code",
      "source": [
        "#library yang digunakan untuk menggunakan model k-NN\n",
        "from sklearn.neighbors import KNeighborsClassifier\n",
        "\n",
        "#library yang akan kita gunakan untuk membagi dataset menggunakan strategi validasi KFold\n",
        "from sklearn.model_selection import KFold\n",
        "from sklearn.model_selection import GridSearchCV\n",
        "\n",
        "#menginisialisasi object KFold dengan jumlah kelompok data = 5. nilai random_state kita gunakan reproducibility (agar data acak yang kita dapatkan untuk setiap kelompok data selalu sama)\n",
        "kf = KFold(n_splits = 5, shuffle=True, random_state = 57)\n",
        "\n",
        "scores_test = []\n",
        "scores_train = []\n",
        "\n",
        "#meminta object kf untuk memecah data X ke sejumlah n kelompok dan mengiterasi setiap train_index dan test_index\n",
        "for train_index, test_index in kf.split(X):\n",
        "\tX_train, y_train = X[train_index], y[train_index]\n",
        "\tX_test, y_test = X[test_index], y[test_index]\n",
        "\n",
        "\tmodel = KNeighborsClassifier()\n",
        "\n",
        "\t#menspesifikasikan data latih beserta labelnya untuk dipelajari oleh model\n",
        "\tmodel.fit(X_train, y_train)\n",
        "\n",
        "\t#meminta model yang telah dilatih untuk memprediksi data X_train\n",
        "\t#menampung hasil prediksi ke dalam variabel y_pred\n",
        "\ty_pred = model.predict(X_train)\n",
        "\n",
        "\t#menampung akurasi dari model ke variabel current_score\n",
        "\tcurrent_score = accuracy_score(y_train, y_pred)\n",
        "\n",
        "\t#menambahkan skor saat ini ke list scores\n",
        "\tscores_train.append(current_score)\n",
        "\n",
        "\t#meminta model yang telah dilatih untuk memprediksi data X_test\n",
        "\t#menampung hasil prediksi ke dalam variabel y_pred\n",
        "\ty_pred = model.predict(X_test)\n",
        "\n",
        "\t#menampung akurasi dari model ke variabel current_score\n",
        "\tcurrent_score = accuracy_score(y_test, y_pred)\n",
        "\n",
        "\t#menambahkan skor saat ini ke list scores\n",
        "\tscores_test.append(current_score)\n",
        "\n",
        "print(\"Skor latih tertinggi: \", round(max(scores_train),2))\n",
        "print(\"Skor latih terendah: \", round(min(scores_train),2))\n",
        "print(\"Skor latih rata-rata: \", round(sum(scores_train)/ len(scores_train),2))\n",
        "\n",
        "print(\"Skor testing tertinggi: \", round(max(scores_test),2))\n",
        "print(\"Skor testing terendah: \", round(min(scores_test),2))\n",
        "print(\"Skor testing rata-rata: \", round(sum(scores_test)/ len(scores_test),2))"
      ],
      "metadata": {
        "colab": {
          "base_uri": "https://localhost:8080/"
        },
        "id": "0Ar66mn98hdN",
        "outputId": "d798073d-3e6f-4896-e907-81882c4332a7"
      },
      "execution_count": null,
      "outputs": [
        {
          "output_type": "stream",
          "name": "stdout",
          "text": [
            "Skor latih tertinggi:  0.75\n",
            "Skor latih terendah:  0.72\n",
            "Skor latih rata-rata:  0.74\n",
            "Skor testing tertinggi:  0.62\n",
            "Skor testing terendah:  0.57\n",
            "Skor testing rata-rata:  0.59\n"
          ]
        }
      ]
    },
    {
      "cell_type": "code",
      "source": [
        "clf = KNeighborsClassifier()\n",
        "#parameter-parameter yang akan diujicobakan pada model\n",
        "parameter_space = {\n",
        "    'n_neighbors': [5, 10, 15, 20, 25],\n",
        "    'metric': ['euclidean', 'manhattan']\n",
        "}\n",
        "\n",
        "#menginisialisasi object GridSearchCV pada classifier\n",
        "#penjelasan terkait dengan parameter-parameter lain yang diterima pada object akan diberikan setelah potongan kode\n",
        "\n",
        "kfold = KFold(n_splits=5, shuffle=True,random_state=57)\n",
        "searcher = GridSearchCV(clf, parameter_space, scoring='accuracy', cv = kfold)\n",
        "\n",
        "#meminta object untuk memproses data X dan y.\n",
        "searcher.fit(X,y)\n",
        "\n",
        "print(\"Parameter terbaik: \", searcher.best_params_)\n",
        "print(\"Akurasi terbaik: \", searcher.best_score_)"
      ],
      "metadata": {
        "colab": {
          "base_uri": "https://localhost:8080/"
        },
        "id": "tA37tnL381g-",
        "outputId": "76ab3d64-5dd9-4373-eac3-0ea638f7da7f"
      },
      "execution_count": null,
      "outputs": [
        {
          "output_type": "stream",
          "name": "stdout",
          "text": [
            "Parameter terbaik:  {'metric': 'manhattan', 'n_neighbors': 5}\n",
            "Akurasi terbaik:  0.7333333333333333\n"
          ]
        }
      ]
    },
    {
      "cell_type": "code",
      "source": [
        "from sklearn.pipeline import Pipeline\n",
        "\n",
        "#library yang kita gunakan untuk mengubah skalasi nilai dari setiap atribut ke dalam suatu rentang tertentu\n",
        "from sklearn.preprocessing import MinMaxScaler\n",
        "\n",
        "clf = Pipeline([\n",
        "#menginisialisasi object MinMaxScaler untuk mengubah setiap kolom agar nilai maksimumnya sama dengan 1 dan nilai minimumnya sama dengan 0\n",
        "  ('scaler', MinMaxScaler(feature_range=(0,1))),\n",
        "  ('clf', KNeighborsClassifier()),\n",
        "])\n",
        "\n",
        "parameter_space = {\n",
        "    'clf__n_neighbors': [2,3,4,5,6,7,8,9,11],\n",
        "    'clf__metric': ['euclidean','manhattan']\n",
        "}\n",
        "\n",
        "kfold = KFold(n_splits=5, shuffle=True,random_state=57)\n",
        "searcher = GridSearchCV(clf, parameter_space, scoring='accuracy', cv = kfold)\n",
        "\n",
        "searcher.fit(X,y)\n",
        "\n",
        "print(\"Parameter terbaik: \", searcher.best_params_)\n",
        "print(\"Akurasi terbaik: \", searcher.best_score_)"
      ],
      "metadata": {
        "colab": {
          "base_uri": "https://localhost:8080/"
        },
        "id": "4wMZOgnd9Voq",
        "outputId": "4d931880-624c-4afc-fa7c-e9e8c9b16204"
      },
      "execution_count": null,
      "outputs": [
        {
          "output_type": "stream",
          "name": "stdout",
          "text": [
            "Parameter terbaik:  {'clf__metric': 'manhattan', 'clf__n_neighbors': 6}\n",
            "Akurasi terbaik:  0.9844444444444445\n"
          ]
        }
      ]
    },
    {
      "cell_type": "markdown",
      "source": [
        "**Presentasi Final Model Klasifikasi Credit Scoring**"
      ],
      "metadata": {
        "id": "TDlKtrBj9lGc"
      }
    },
    {
      "cell_type": "code",
      "source": [
        "from sklearn.metrics import accuracy_score\n",
        "from sklearn.neighbors import KNeighborsClassifier\n",
        "from sklearn.model_selection import GridSearchCV\n",
        "from sklearn.model_selection import KFold\n",
        "from sklearn.pipeline import Pipeline\n",
        "from sklearn.preprocessing import MinMaxScaler\n",
        "\n",
        "clf = Pipeline([\n",
        "    ('scaler', MinMaxScaler(feature_range=(0,1))),\n",
        "    ('clf', KNeighborsClassifier()),\n",
        "])\n",
        "\n",
        "parameter_space = {\n",
        "    'clf__n_neighbors': [2,3,4,5,6,7,8,9,11],\n",
        "    'clf__metric': ['euclidean', 'manhattan']\n",
        "}\n",
        "\n",
        "kfold = KFold(n_splits=5, shuffle=True,random_state=57)\n",
        "searcher = GridSearchCV(clf, parameter_space, scoring='accuracy', cv = kfold)\n",
        "searcher.fit(X,y)\n",
        "\n",
        "#merepresentasikan ketiga data sebagai variabel X_new\n",
        "X_new = [\n",
        "    [320,1,36,1,2],\n",
        "    [220,0,12,0,1],\n",
        "    [300,0,12,2,0]\n",
        "]\n",
        "\n",
        "#perhatikan bahwa kita tidak harus melakukan skalasi terhadap X_new dan proses predict akan melakukannya untuk kita karena kita sudah menspesifikasikan object MinMaxScaler dalam object pipeline pada potongan kode sebelumnya\n",
        "print(searcher.best_estimator_.predict(X_new))"
      ],
      "metadata": {
        "colab": {
          "base_uri": "https://localhost:8080/"
        },
        "id": "F9G9F7jY9nXg",
        "outputId": "f5ba9795-e05d-4b5e-8f03-7362f83e6730"
      },
      "execution_count": null,
      "outputs": [
        {
          "output_type": "stream",
          "name": "stdout",
          "text": [
            "[3 2 1]\n"
          ]
        }
      ]
    },
    {
      "cell_type": "markdown",
      "source": [
        "**Mini Project: Multinomial Naive Bayes**"
      ],
      "metadata": {
        "id": "yeuFcR_G962F"
      }
    },
    {
      "cell_type": "code",
      "source": [
        "import numpy as np\n",
        "import pandas as pd\n",
        "pd.set_option('display.max_column', 20)\n",
        "\n",
        "df = pd.read_excel('https://storage.googleapis.com/dqlab-dataset/credit_scoring_dqlab.xlsx')\n",
        "df.drop('kode_kontrak', axis=1, inplace=True)\n",
        "\n",
        "y = df.pop('risk_rating').to_list()\n",
        "y = [4 if label == 5 else label for label in y]\n",
        "y = np.array(y)\n",
        "\n",
        "def convert_kpr_aktif(kpr_aktif):\n",
        "    if kpr_aktif == 'YA':\n",
        "        return 1\n",
        "    return 0\n",
        "\n",
        "df['kpr_aktif']= df['kpr_aktif'].apply(convert_kpr_aktif)\n",
        "\n",
        "def change_overdue(overdue):\n",
        "    if overdue == '0 - 30 days':\n",
        "        return 0\n",
        "    elif overdue == '31 - 45 days':\n",
        "        return 1\n",
        "    elif overdue == '46 - 60 days':\n",
        "        return 2\n",
        "    elif overdue == '61 - 90 days':\n",
        "        return 3\n",
        "    else:\n",
        "        return 4\n",
        "\n",
        "df['rata_rata_overdue'] = df['rata_rata_overdue'].apply(change_overdue)\n",
        "\n",
        "X = df.to_numpy()\n",
        "\n",
        "#library yang digunakan untuk menghitung akurasi\n",
        "from sklearn.metrics import accuracy_score\n",
        "\n",
        "#library yang digunakan untuk menggunakan model MNB\n",
        "from sklearn.naive_bayes import MultinomialNB\n",
        "\n",
        "#library yang akan kita gunakan untuk membagi dataset menggunakan strategi validasi KFold\n",
        "from sklearn.model_selection import KFold\n",
        "\n",
        "#menginisialisasi object KFold dengan jumlah kelompok data = 10. nilai random_state kita gunakan reproducibility (agar data acak yang kita dapatkan untuk setiap kelompok data selalu sama)\n",
        "kf = KFold(n_splits = 10, shuffle=True, random_state = 57)\n",
        "\n",
        "scores_test = []\n",
        "scores_train = []\n",
        "\n",
        "#meminta object kf untuk memecah data X ke sejumlah n kelompok dan mengiterasi setiap train_index dan test_index\n",
        "for train_index, test_index in kf.split(X):\n",
        "\tX_train, y_train = X[train_index], y[train_index]\n",
        "\tX_test, y_test = X[test_index], y[test_index]\n",
        "\tmodel = MultinomialNB()\n",
        "\n",
        "\t#menspesifikasikan data latih beserta labelnya untuk dipelajari oleh model\n",
        "\tmodel.fit(X_train, y_train)\n",
        "\n",
        "\t#meminta model yang telah dilatih untuk memprediksi data X_train\n",
        "\t#menampung hasil prediksi ke dalam variabel y_pred\n",
        "\ty_pred = model.predict(X_train)\n",
        "\n",
        "\t#menampung akurasi dari model ke variabel current_score\n",
        "\tcurrent_score = accuracy_score(y_train, y_pred)\n",
        "\n",
        "\t#menambahkan skor saat ini ke list scores\n",
        "\tscores_train.append(current_score)\n",
        "\n",
        "\t#meminta model yang telah dilatih untuk memprediksi data X_test\n",
        "\t#menampung hasil prediksi ke dalam variabel y_pred\n",
        "\ty_pred = model.predict(X_test)\n",
        "\n",
        "\t#menampung akurasi dari model ke variabel current_score\n",
        "\tcurrent_score = accuracy_score(y_test, y_pred)\n",
        "\n",
        "\t#menambahkan skor saat ini ke list scores\n",
        "\tscores_test.append(current_score)\n",
        "\n",
        "print(\"Skor latih tertinggi: \", round(max(scores_train),2))\n",
        "print(\"Skor latih terendah: \", round(min(scores_train),2))\n",
        "print(\"Skor latih rata-rata: \", round(sum(scores_train)/len(scores_train),2))\n",
        "\n",
        "print(\"Skor testing tertinggi: \", round(max(scores_test),2))\n",
        "print(\"Skor testing terendah: \", round(min(scores_test),2))\n",
        "print(\"Skor testing rata-rata: \", round(sum(scores_test))/len(scores_test),2)"
      ],
      "metadata": {
        "colab": {
          "base_uri": "https://localhost:8080/"
        },
        "id": "-WmZKjZG99X5",
        "outputId": "79895195-1727-4bba-9cfc-65e7a30da762"
      },
      "execution_count": null,
      "outputs": [
        {
          "output_type": "stream",
          "name": "stdout",
          "text": [
            "Skor latih tertinggi:  0.7\n",
            "Skor latih terendah:  0.69\n",
            "Skor latih rata-rata:  0.69\n",
            "Skor testing tertinggi:  0.79\n",
            "Skor testing terendah:  0.61\n",
            "Skor testing rata-rata:  0.7 2\n"
          ]
        }
      ]
    },
    {
      "cell_type": "markdown",
      "source": [
        "Mini Project: k-Nearest **Neighbors**"
      ],
      "metadata": {
        "id": "wPo78qjh-Exi"
      }
    },
    {
      "cell_type": "code",
      "source": [
        "import numpy as np\n",
        "import pandas as pd\n",
        "pd.set_option('display.max_column', 20)\n",
        "\n",
        "df = pd.read_excel('https://storage.googleapis.com/dqlab-dataset/credit_scoring_dqlab.xlsx')\n",
        "df.drop('kode_kontrak', axis=1, inplace=True)\n",
        "\n",
        "y = df.pop('risk_rating').to_list()\n",
        "y = [4 if label == 5 else label for label in y]\n",
        "y = np.array(y)\n",
        "\n",
        "def convert_kpr_aktif(kpr_aktif):\n",
        "    if kpr_aktif == 'YA':\n",
        "        return 1\n",
        "    return 0\n",
        "\n",
        "df['kpr_aktif']= df['kpr_aktif'].apply(convert_kpr_aktif)\n",
        "\n",
        "def change_overdue(overdue):\n",
        "    if overdue == '0 - 30 days':\n",
        "        return 0\n",
        "    elif overdue == '31 - 45 days':\n",
        "        return 1\n",
        "    elif overdue == '46 - 60 days':\n",
        "        return 2\n",
        "    elif overdue == '61 - 90 days':\n",
        "        return 3\n",
        "    else:\n",
        "        return 4\n",
        "\n",
        "df['rata_rata_overdue'] = df['rata_rata_overdue'].apply(change_overdue)\n",
        "\n",
        "X = df.to_numpy()\n",
        "\n",
        "from sklearn.metrics import accuracy_score\n",
        "from sklearn.neighbors import KNeighborsClassifier\n",
        "from sklearn.model_selection import GridSearchCV\n",
        "from sklearn.model_selection import KFold\n",
        "\n",
        "clf = KNeighborsClassifier()\n",
        "\n",
        "#parameter-parameter yang akan diujicobakan pada model\n",
        "parameter_space = {\n",
        "    'n_neighbors': [2,3,4,5,6,7,8,9,11],\n",
        "    'metric': ['euclidean', 'manhattan']\n",
        "}\n",
        "\n",
        "#menginisialisasi object GridSearchCV pada classifier, penjelasan terkait dengan parameter-parameter lain yang diterima pada object akan diberikan setelah potongan kode\n",
        "kfold = KFold(n_splits=5, shuffle=True,random_state=57)\n",
        "searcher = GridSearchCV(clf, parameter_space, scoring='accuracy', cv = kfold)\n",
        "\n",
        "#meminta object untuk memproses data X dan y.\n",
        "searcher.fit(X,y)\n",
        "\n",
        "print(\"Parameter terbaik: \", searcher.best_params_)\n",
        "print(\"Akurasi terbaik: \", searcher.best_score_)"
      ],
      "metadata": {
        "colab": {
          "base_uri": "https://localhost:8080/"
        },
        "id": "IynJTWk_-Koe",
        "outputId": "0d11091d-bb62-4a29-8daa-e8bf84d253db"
      },
      "execution_count": null,
      "outputs": [
        {
          "output_type": "stream",
          "name": "stdout",
          "text": [
            "Parameter terbaik:  {'metric': 'manhattan', 'n_neighbors': 3}\n",
            "Akurasi terbaik:  0.7755555555555554\n"
          ]
        }
      ]
    }
  ]
}