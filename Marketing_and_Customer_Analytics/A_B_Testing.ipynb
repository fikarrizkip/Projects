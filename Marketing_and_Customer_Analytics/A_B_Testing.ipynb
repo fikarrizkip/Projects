{
  "cells": [
    {
      "cell_type": "markdown",
      "metadata": {
        "id": "view-in-github",
        "colab_type": "text"
      },
      "source": [
        "<a href=\"https://colab.research.google.com/github/fikarrizkip/Marketing-and-Customer-Analytics/blob/main/A_B_Testing.ipynb\" target=\"_parent\"><img src=\"https://colab.research.google.com/assets/colab-badge.svg\" alt=\"Open In Colab\"/></a>"
      ]
    },
    {
      "cell_type": "markdown",
      "source": [
        "#Introduction\n",
        "Perusahaan telah mengembangkan halaman web baru dengan tujuan meningkatkan jumlah pengguna berbayar untuk produk mereka. Untuk mengukur efektivitas halaman baru tersebut, mereka melakukan uji A/B.\n",
        "\n",
        "Uji ini melibatkan pembagian acak pengguna ke dalam dua kelompok berukuran sama: kelompok kontrol (A) dan kelompok perlakuan (B). Kelompok kontrol tetap mengakses halaman web lama, sementara kelompok perlakuan berinteraksi dengan halaman web yang baru dikembangkan.\n",
        "\n",
        "Setelah periode pengujian tertentu, data dikumpulkan dari kedua kelompok. Selanjutnya, pengujian hipotesis diterapkan untuk menentukan apakah perbedaan antara kedua kelompok tersebut secara statistik signifikan atau tidak. Dengan cara ini, perusahaan dapat menarik kesimpulan yang valid tentang dampak halaman web baru terhadap perilaku pengguna dan pengambilan keputusan pembelian."
      ],
      "metadata": {
        "id": "wE80_hx9Up1J"
      }
    },
    {
      "cell_type": "markdown",
      "source": [
        "#Langkah-langkah A/B Testing\n",
        "\n",
        "**Membuat Hipotesis**\n",
        "\n",
        "H0: Tidak ada perbedaan yang signifikan secara statistik antara halaman lama dan halaman baru\n",
        "\n",
        "H1: Ada perbedaan yang signifikan secara statistik antara halaman lama dan halaman baru\n",
        "<br></br>\n",
        "\n",
        "**Memeriksa Asumsi**\n",
        "\n",
        "H0: Asumsi distribusi normal terpenuhi\n",
        "\n",
        "H1: Asumsi distribusi normal tidak terpenuhi\n",
        "\n",
        "Jika nilai p-value kurang dari 0,05, itu dianggap signifikan dan tes non-parametrik (uji mannwhitneyu) akan digunakan. Lain tes parametrik (uji-t)\n",
        "<br></br>\n",
        "**Memeriksa Homogenitas**\n",
        "\n",
        "H0: Varians homogen\n",
        "\n",
        "H1: Varians tidak homogen"
      ],
      "metadata": {
        "id": "fDYLT0oBV05k"
      }
    },
    {
      "cell_type": "markdown",
      "source": [
        "# Exploratory Data Analysis"
      ],
      "metadata": {
        "id": "oiLGk9U7aAMB"
      }
    },
    {
      "cell_type": "code",
      "execution_count": 1,
      "metadata": {
        "id": "0P5c-5XWDu5E"
      },
      "outputs": [],
      "source": [
        "#import libraries\n",
        "import pandas as pd\n",
        "import numpy as np\n",
        "import seaborn as sns\n",
        "import matplotlib.pyplot as plt\n",
        "\n",
        "from scipy.stats import shapiro, levene, mannwhitneyu\n",
        "import scipy.stats as stats\n",
        "\n",
        "import warnings\n",
        "warnings.filterwarnings('ignore')"
      ]
    },
    {
      "cell_type": "code",
      "execution_count": 2,
      "metadata": {
        "id": "a6yiyWbxEBs6",
        "colab": {
          "base_uri": "https://localhost:8080/"
        },
        "outputId": "aa9567fc-c9d0-44f3-ca94-76faf525c6f3"
      },
      "outputs": [
        {
          "output_type": "stream",
          "name": "stdout",
          "text": [
            "Mounted at /content/drive\n"
          ]
        }
      ],
      "source": [
        "#load data\n",
        "from google.colab import drive\n",
        "drive.mount('/content/drive')\n",
        "ab = pd.read_excel(\"/content/drive/MyDrive/dataset/ab_data_excel.xlsx\")"
      ]
    },
    {
      "cell_type": "code",
      "execution_count": 3,
      "metadata": {
        "id": "NYpHbcE5EZdQ",
        "colab": {
          "base_uri": "https://localhost:8080/",
          "height": 206
        },
        "outputId": "a2020dd0-c4e2-4afc-8ce8-a307b62c72d4"
      },
      "outputs": [
        {
          "output_type": "execute_result",
          "data": {
            "text/plain": [
              "   user_id timestamp      group landing_page  converted\n",
              "0   851104   11:48.6    control     old_page          0\n",
              "1   804228   01:45.2    control     old_page          0\n",
              "2   661590   55:06.2  treatment     new_page          0\n",
              "3   853541   28:03.1  treatment     new_page          0\n",
              "4   864975   52:26.2    control     old_page          1"
            ],
            "text/html": [
              "\n",
              "  <div id=\"df-b9ebc1ad-95cf-4a15-afad-13d155aa4ff8\" class=\"colab-df-container\">\n",
              "    <div>\n",
              "<style scoped>\n",
              "    .dataframe tbody tr th:only-of-type {\n",
              "        vertical-align: middle;\n",
              "    }\n",
              "\n",
              "    .dataframe tbody tr th {\n",
              "        vertical-align: top;\n",
              "    }\n",
              "\n",
              "    .dataframe thead th {\n",
              "        text-align: right;\n",
              "    }\n",
              "</style>\n",
              "<table border=\"1\" class=\"dataframe\">\n",
              "  <thead>\n",
              "    <tr style=\"text-align: right;\">\n",
              "      <th></th>\n",
              "      <th>user_id</th>\n",
              "      <th>timestamp</th>\n",
              "      <th>group</th>\n",
              "      <th>landing_page</th>\n",
              "      <th>converted</th>\n",
              "    </tr>\n",
              "  </thead>\n",
              "  <tbody>\n",
              "    <tr>\n",
              "      <th>0</th>\n",
              "      <td>851104</td>\n",
              "      <td>11:48.6</td>\n",
              "      <td>control</td>\n",
              "      <td>old_page</td>\n",
              "      <td>0</td>\n",
              "    </tr>\n",
              "    <tr>\n",
              "      <th>1</th>\n",
              "      <td>804228</td>\n",
              "      <td>01:45.2</td>\n",
              "      <td>control</td>\n",
              "      <td>old_page</td>\n",
              "      <td>0</td>\n",
              "    </tr>\n",
              "    <tr>\n",
              "      <th>2</th>\n",
              "      <td>661590</td>\n",
              "      <td>55:06.2</td>\n",
              "      <td>treatment</td>\n",
              "      <td>new_page</td>\n",
              "      <td>0</td>\n",
              "    </tr>\n",
              "    <tr>\n",
              "      <th>3</th>\n",
              "      <td>853541</td>\n",
              "      <td>28:03.1</td>\n",
              "      <td>treatment</td>\n",
              "      <td>new_page</td>\n",
              "      <td>0</td>\n",
              "    </tr>\n",
              "    <tr>\n",
              "      <th>4</th>\n",
              "      <td>864975</td>\n",
              "      <td>52:26.2</td>\n",
              "      <td>control</td>\n",
              "      <td>old_page</td>\n",
              "      <td>1</td>\n",
              "    </tr>\n",
              "  </tbody>\n",
              "</table>\n",
              "</div>\n",
              "    <div class=\"colab-df-buttons\">\n",
              "\n",
              "  <div class=\"colab-df-container\">\n",
              "    <button class=\"colab-df-convert\" onclick=\"convertToInteractive('df-b9ebc1ad-95cf-4a15-afad-13d155aa4ff8')\"\n",
              "            title=\"Convert this dataframe to an interactive table.\"\n",
              "            style=\"display:none;\">\n",
              "\n",
              "  <svg xmlns=\"http://www.w3.org/2000/svg\" height=\"24px\" viewBox=\"0 -960 960 960\">\n",
              "    <path d=\"M120-120v-720h720v720H120Zm60-500h600v-160H180v160Zm220 220h160v-160H400v160Zm0 220h160v-160H400v160ZM180-400h160v-160H180v160Zm440 0h160v-160H620v160ZM180-180h160v-160H180v160Zm440 0h160v-160H620v160Z\"/>\n",
              "  </svg>\n",
              "    </button>\n",
              "\n",
              "  <style>\n",
              "    .colab-df-container {\n",
              "      display:flex;\n",
              "      gap: 12px;\n",
              "    }\n",
              "\n",
              "    .colab-df-convert {\n",
              "      background-color: #E8F0FE;\n",
              "      border: none;\n",
              "      border-radius: 50%;\n",
              "      cursor: pointer;\n",
              "      display: none;\n",
              "      fill: #1967D2;\n",
              "      height: 32px;\n",
              "      padding: 0 0 0 0;\n",
              "      width: 32px;\n",
              "    }\n",
              "\n",
              "    .colab-df-convert:hover {\n",
              "      background-color: #E2EBFA;\n",
              "      box-shadow: 0px 1px 2px rgba(60, 64, 67, 0.3), 0px 1px 3px 1px rgba(60, 64, 67, 0.15);\n",
              "      fill: #174EA6;\n",
              "    }\n",
              "\n",
              "    .colab-df-buttons div {\n",
              "      margin-bottom: 4px;\n",
              "    }\n",
              "\n",
              "    [theme=dark] .colab-df-convert {\n",
              "      background-color: #3B4455;\n",
              "      fill: #D2E3FC;\n",
              "    }\n",
              "\n",
              "    [theme=dark] .colab-df-convert:hover {\n",
              "      background-color: #434B5C;\n",
              "      box-shadow: 0px 1px 3px 1px rgba(0, 0, 0, 0.15);\n",
              "      filter: drop-shadow(0px 1px 2px rgba(0, 0, 0, 0.3));\n",
              "      fill: #FFFFFF;\n",
              "    }\n",
              "  </style>\n",
              "\n",
              "    <script>\n",
              "      const buttonEl =\n",
              "        document.querySelector('#df-b9ebc1ad-95cf-4a15-afad-13d155aa4ff8 button.colab-df-convert');\n",
              "      buttonEl.style.display =\n",
              "        google.colab.kernel.accessAllowed ? 'block' : 'none';\n",
              "\n",
              "      async function convertToInteractive(key) {\n",
              "        const element = document.querySelector('#df-b9ebc1ad-95cf-4a15-afad-13d155aa4ff8');\n",
              "        const dataTable =\n",
              "          await google.colab.kernel.invokeFunction('convertToInteractive',\n",
              "                                                    [key], {});\n",
              "        if (!dataTable) return;\n",
              "\n",
              "        const docLinkHtml = 'Like what you see? Visit the ' +\n",
              "          '<a target=\"_blank\" href=https://colab.research.google.com/notebooks/data_table.ipynb>data table notebook</a>'\n",
              "          + ' to learn more about interactive tables.';\n",
              "        element.innerHTML = '';\n",
              "        dataTable['output_type'] = 'display_data';\n",
              "        await google.colab.output.renderOutput(dataTable, element);\n",
              "        const docLink = document.createElement('div');\n",
              "        docLink.innerHTML = docLinkHtml;\n",
              "        element.appendChild(docLink);\n",
              "      }\n",
              "    </script>\n",
              "  </div>\n",
              "\n",
              "\n",
              "<div id=\"df-4097c614-ccf4-4aa9-be33-ab8104dc6914\">\n",
              "  <button class=\"colab-df-quickchart\" onclick=\"quickchart('df-4097c614-ccf4-4aa9-be33-ab8104dc6914')\"\n",
              "            title=\"Suggest charts\"\n",
              "            style=\"display:none;\">\n",
              "\n",
              "<svg xmlns=\"http://www.w3.org/2000/svg\" height=\"24px\"viewBox=\"0 0 24 24\"\n",
              "     width=\"24px\">\n",
              "    <g>\n",
              "        <path d=\"M19 3H5c-1.1 0-2 .9-2 2v14c0 1.1.9 2 2 2h14c1.1 0 2-.9 2-2V5c0-1.1-.9-2-2-2zM9 17H7v-7h2v7zm4 0h-2V7h2v10zm4 0h-2v-4h2v4z\"/>\n",
              "    </g>\n",
              "</svg>\n",
              "  </button>\n",
              "\n",
              "<style>\n",
              "  .colab-df-quickchart {\n",
              "      --bg-color: #E8F0FE;\n",
              "      --fill-color: #1967D2;\n",
              "      --hover-bg-color: #E2EBFA;\n",
              "      --hover-fill-color: #174EA6;\n",
              "      --disabled-fill-color: #AAA;\n",
              "      --disabled-bg-color: #DDD;\n",
              "  }\n",
              "\n",
              "  [theme=dark] .colab-df-quickchart {\n",
              "      --bg-color: #3B4455;\n",
              "      --fill-color: #D2E3FC;\n",
              "      --hover-bg-color: #434B5C;\n",
              "      --hover-fill-color: #FFFFFF;\n",
              "      --disabled-bg-color: #3B4455;\n",
              "      --disabled-fill-color: #666;\n",
              "  }\n",
              "\n",
              "  .colab-df-quickchart {\n",
              "    background-color: var(--bg-color);\n",
              "    border: none;\n",
              "    border-radius: 50%;\n",
              "    cursor: pointer;\n",
              "    display: none;\n",
              "    fill: var(--fill-color);\n",
              "    height: 32px;\n",
              "    padding: 0;\n",
              "    width: 32px;\n",
              "  }\n",
              "\n",
              "  .colab-df-quickchart:hover {\n",
              "    background-color: var(--hover-bg-color);\n",
              "    box-shadow: 0 1px 2px rgba(60, 64, 67, 0.3), 0 1px 3px 1px rgba(60, 64, 67, 0.15);\n",
              "    fill: var(--button-hover-fill-color);\n",
              "  }\n",
              "\n",
              "  .colab-df-quickchart-complete:disabled,\n",
              "  .colab-df-quickchart-complete:disabled:hover {\n",
              "    background-color: var(--disabled-bg-color);\n",
              "    fill: var(--disabled-fill-color);\n",
              "    box-shadow: none;\n",
              "  }\n",
              "\n",
              "  .colab-df-spinner {\n",
              "    border: 2px solid var(--fill-color);\n",
              "    border-color: transparent;\n",
              "    border-bottom-color: var(--fill-color);\n",
              "    animation:\n",
              "      spin 1s steps(1) infinite;\n",
              "  }\n",
              "\n",
              "  @keyframes spin {\n",
              "    0% {\n",
              "      border-color: transparent;\n",
              "      border-bottom-color: var(--fill-color);\n",
              "      border-left-color: var(--fill-color);\n",
              "    }\n",
              "    20% {\n",
              "      border-color: transparent;\n",
              "      border-left-color: var(--fill-color);\n",
              "      border-top-color: var(--fill-color);\n",
              "    }\n",
              "    30% {\n",
              "      border-color: transparent;\n",
              "      border-left-color: var(--fill-color);\n",
              "      border-top-color: var(--fill-color);\n",
              "      border-right-color: var(--fill-color);\n",
              "    }\n",
              "    40% {\n",
              "      border-color: transparent;\n",
              "      border-right-color: var(--fill-color);\n",
              "      border-top-color: var(--fill-color);\n",
              "    }\n",
              "    60% {\n",
              "      border-color: transparent;\n",
              "      border-right-color: var(--fill-color);\n",
              "    }\n",
              "    80% {\n",
              "      border-color: transparent;\n",
              "      border-right-color: var(--fill-color);\n",
              "      border-bottom-color: var(--fill-color);\n",
              "    }\n",
              "    90% {\n",
              "      border-color: transparent;\n",
              "      border-bottom-color: var(--fill-color);\n",
              "    }\n",
              "  }\n",
              "</style>\n",
              "\n",
              "  <script>\n",
              "    async function quickchart(key) {\n",
              "      const quickchartButtonEl =\n",
              "        document.querySelector('#' + key + ' button');\n",
              "      quickchartButtonEl.disabled = true;  // To prevent multiple clicks.\n",
              "      quickchartButtonEl.classList.add('colab-df-spinner');\n",
              "      try {\n",
              "        const charts = await google.colab.kernel.invokeFunction(\n",
              "            'suggestCharts', [key], {});\n",
              "      } catch (error) {\n",
              "        console.error('Error during call to suggestCharts:', error);\n",
              "      }\n",
              "      quickchartButtonEl.classList.remove('colab-df-spinner');\n",
              "      quickchartButtonEl.classList.add('colab-df-quickchart-complete');\n",
              "    }\n",
              "    (() => {\n",
              "      let quickchartButtonEl =\n",
              "        document.querySelector('#df-4097c614-ccf4-4aa9-be33-ab8104dc6914 button');\n",
              "      quickchartButtonEl.style.display =\n",
              "        google.colab.kernel.accessAllowed ? 'block' : 'none';\n",
              "    })();\n",
              "  </script>\n",
              "</div>\n",
              "    </div>\n",
              "  </div>\n"
            ],
            "application/vnd.google.colaboratory.intrinsic+json": {
              "type": "dataframe",
              "variable_name": "ab"
            }
          },
          "metadata": {},
          "execution_count": 3
        }
      ],
      "source": [
        "#overview data\n",
        "ab.head(5)"
      ]
    },
    {
      "cell_type": "code",
      "source": [
        "#descriptive stats\n",
        "ab.describe()"
      ],
      "metadata": {
        "id": "KeDAl0YFwIAE",
        "colab": {
          "base_uri": "https://localhost:8080/",
          "height": 300
        },
        "outputId": "680d8867-1510-429d-b5b3-2313477382d6"
      },
      "execution_count": 4,
      "outputs": [
        {
          "output_type": "execute_result",
          "data": {
            "text/plain": [
              "             user_id      converted\n",
              "count  294480.000000  294480.000000\n",
              "mean   787973.538896       0.119658\n",
              "std     91210.917091       0.324562\n",
              "min    630000.000000       0.000000\n",
              "25%    709031.750000       0.000000\n",
              "50%    787932.500000       0.000000\n",
              "75%    866911.250000       0.000000\n",
              "max    945999.000000       1.000000"
            ],
            "text/html": [
              "\n",
              "  <div id=\"df-b1298fb3-0aa0-4bee-866e-337d2d25d9fc\" class=\"colab-df-container\">\n",
              "    <div>\n",
              "<style scoped>\n",
              "    .dataframe tbody tr th:only-of-type {\n",
              "        vertical-align: middle;\n",
              "    }\n",
              "\n",
              "    .dataframe tbody tr th {\n",
              "        vertical-align: top;\n",
              "    }\n",
              "\n",
              "    .dataframe thead th {\n",
              "        text-align: right;\n",
              "    }\n",
              "</style>\n",
              "<table border=\"1\" class=\"dataframe\">\n",
              "  <thead>\n",
              "    <tr style=\"text-align: right;\">\n",
              "      <th></th>\n",
              "      <th>user_id</th>\n",
              "      <th>converted</th>\n",
              "    </tr>\n",
              "  </thead>\n",
              "  <tbody>\n",
              "    <tr>\n",
              "      <th>count</th>\n",
              "      <td>294480.000000</td>\n",
              "      <td>294480.000000</td>\n",
              "    </tr>\n",
              "    <tr>\n",
              "      <th>mean</th>\n",
              "      <td>787973.538896</td>\n",
              "      <td>0.119658</td>\n",
              "    </tr>\n",
              "    <tr>\n",
              "      <th>std</th>\n",
              "      <td>91210.917091</td>\n",
              "      <td>0.324562</td>\n",
              "    </tr>\n",
              "    <tr>\n",
              "      <th>min</th>\n",
              "      <td>630000.000000</td>\n",
              "      <td>0.000000</td>\n",
              "    </tr>\n",
              "    <tr>\n",
              "      <th>25%</th>\n",
              "      <td>709031.750000</td>\n",
              "      <td>0.000000</td>\n",
              "    </tr>\n",
              "    <tr>\n",
              "      <th>50%</th>\n",
              "      <td>787932.500000</td>\n",
              "      <td>0.000000</td>\n",
              "    </tr>\n",
              "    <tr>\n",
              "      <th>75%</th>\n",
              "      <td>866911.250000</td>\n",
              "      <td>0.000000</td>\n",
              "    </tr>\n",
              "    <tr>\n",
              "      <th>max</th>\n",
              "      <td>945999.000000</td>\n",
              "      <td>1.000000</td>\n",
              "    </tr>\n",
              "  </tbody>\n",
              "</table>\n",
              "</div>\n",
              "    <div class=\"colab-df-buttons\">\n",
              "\n",
              "  <div class=\"colab-df-container\">\n",
              "    <button class=\"colab-df-convert\" onclick=\"convertToInteractive('df-b1298fb3-0aa0-4bee-866e-337d2d25d9fc')\"\n",
              "            title=\"Convert this dataframe to an interactive table.\"\n",
              "            style=\"display:none;\">\n",
              "\n",
              "  <svg xmlns=\"http://www.w3.org/2000/svg\" height=\"24px\" viewBox=\"0 -960 960 960\">\n",
              "    <path d=\"M120-120v-720h720v720H120Zm60-500h600v-160H180v160Zm220 220h160v-160H400v160Zm0 220h160v-160H400v160ZM180-400h160v-160H180v160Zm440 0h160v-160H620v160ZM180-180h160v-160H180v160Zm440 0h160v-160H620v160Z\"/>\n",
              "  </svg>\n",
              "    </button>\n",
              "\n",
              "  <style>\n",
              "    .colab-df-container {\n",
              "      display:flex;\n",
              "      gap: 12px;\n",
              "    }\n",
              "\n",
              "    .colab-df-convert {\n",
              "      background-color: #E8F0FE;\n",
              "      border: none;\n",
              "      border-radius: 50%;\n",
              "      cursor: pointer;\n",
              "      display: none;\n",
              "      fill: #1967D2;\n",
              "      height: 32px;\n",
              "      padding: 0 0 0 0;\n",
              "      width: 32px;\n",
              "    }\n",
              "\n",
              "    .colab-df-convert:hover {\n",
              "      background-color: #E2EBFA;\n",
              "      box-shadow: 0px 1px 2px rgba(60, 64, 67, 0.3), 0px 1px 3px 1px rgba(60, 64, 67, 0.15);\n",
              "      fill: #174EA6;\n",
              "    }\n",
              "\n",
              "    .colab-df-buttons div {\n",
              "      margin-bottom: 4px;\n",
              "    }\n",
              "\n",
              "    [theme=dark] .colab-df-convert {\n",
              "      background-color: #3B4455;\n",
              "      fill: #D2E3FC;\n",
              "    }\n",
              "\n",
              "    [theme=dark] .colab-df-convert:hover {\n",
              "      background-color: #434B5C;\n",
              "      box-shadow: 0px 1px 3px 1px rgba(0, 0, 0, 0.15);\n",
              "      filter: drop-shadow(0px 1px 2px rgba(0, 0, 0, 0.3));\n",
              "      fill: #FFFFFF;\n",
              "    }\n",
              "  </style>\n",
              "\n",
              "    <script>\n",
              "      const buttonEl =\n",
              "        document.querySelector('#df-b1298fb3-0aa0-4bee-866e-337d2d25d9fc button.colab-df-convert');\n",
              "      buttonEl.style.display =\n",
              "        google.colab.kernel.accessAllowed ? 'block' : 'none';\n",
              "\n",
              "      async function convertToInteractive(key) {\n",
              "        const element = document.querySelector('#df-b1298fb3-0aa0-4bee-866e-337d2d25d9fc');\n",
              "        const dataTable =\n",
              "          await google.colab.kernel.invokeFunction('convertToInteractive',\n",
              "                                                    [key], {});\n",
              "        if (!dataTable) return;\n",
              "\n",
              "        const docLinkHtml = 'Like what you see? Visit the ' +\n",
              "          '<a target=\"_blank\" href=https://colab.research.google.com/notebooks/data_table.ipynb>data table notebook</a>'\n",
              "          + ' to learn more about interactive tables.';\n",
              "        element.innerHTML = '';\n",
              "        dataTable['output_type'] = 'display_data';\n",
              "        await google.colab.output.renderOutput(dataTable, element);\n",
              "        const docLink = document.createElement('div');\n",
              "        docLink.innerHTML = docLinkHtml;\n",
              "        element.appendChild(docLink);\n",
              "      }\n",
              "    </script>\n",
              "  </div>\n",
              "\n",
              "\n",
              "<div id=\"df-8ec675a8-6ff4-42b8-86aa-34143359566f\">\n",
              "  <button class=\"colab-df-quickchart\" onclick=\"quickchart('df-8ec675a8-6ff4-42b8-86aa-34143359566f')\"\n",
              "            title=\"Suggest charts\"\n",
              "            style=\"display:none;\">\n",
              "\n",
              "<svg xmlns=\"http://www.w3.org/2000/svg\" height=\"24px\"viewBox=\"0 0 24 24\"\n",
              "     width=\"24px\">\n",
              "    <g>\n",
              "        <path d=\"M19 3H5c-1.1 0-2 .9-2 2v14c0 1.1.9 2 2 2h14c1.1 0 2-.9 2-2V5c0-1.1-.9-2-2-2zM9 17H7v-7h2v7zm4 0h-2V7h2v10zm4 0h-2v-4h2v4z\"/>\n",
              "    </g>\n",
              "</svg>\n",
              "  </button>\n",
              "\n",
              "<style>\n",
              "  .colab-df-quickchart {\n",
              "      --bg-color: #E8F0FE;\n",
              "      --fill-color: #1967D2;\n",
              "      --hover-bg-color: #E2EBFA;\n",
              "      --hover-fill-color: #174EA6;\n",
              "      --disabled-fill-color: #AAA;\n",
              "      --disabled-bg-color: #DDD;\n",
              "  }\n",
              "\n",
              "  [theme=dark] .colab-df-quickchart {\n",
              "      --bg-color: #3B4455;\n",
              "      --fill-color: #D2E3FC;\n",
              "      --hover-bg-color: #434B5C;\n",
              "      --hover-fill-color: #FFFFFF;\n",
              "      --disabled-bg-color: #3B4455;\n",
              "      --disabled-fill-color: #666;\n",
              "  }\n",
              "\n",
              "  .colab-df-quickchart {\n",
              "    background-color: var(--bg-color);\n",
              "    border: none;\n",
              "    border-radius: 50%;\n",
              "    cursor: pointer;\n",
              "    display: none;\n",
              "    fill: var(--fill-color);\n",
              "    height: 32px;\n",
              "    padding: 0;\n",
              "    width: 32px;\n",
              "  }\n",
              "\n",
              "  .colab-df-quickchart:hover {\n",
              "    background-color: var(--hover-bg-color);\n",
              "    box-shadow: 0 1px 2px rgba(60, 64, 67, 0.3), 0 1px 3px 1px rgba(60, 64, 67, 0.15);\n",
              "    fill: var(--button-hover-fill-color);\n",
              "  }\n",
              "\n",
              "  .colab-df-quickchart-complete:disabled,\n",
              "  .colab-df-quickchart-complete:disabled:hover {\n",
              "    background-color: var(--disabled-bg-color);\n",
              "    fill: var(--disabled-fill-color);\n",
              "    box-shadow: none;\n",
              "  }\n",
              "\n",
              "  .colab-df-spinner {\n",
              "    border: 2px solid var(--fill-color);\n",
              "    border-color: transparent;\n",
              "    border-bottom-color: var(--fill-color);\n",
              "    animation:\n",
              "      spin 1s steps(1) infinite;\n",
              "  }\n",
              "\n",
              "  @keyframes spin {\n",
              "    0% {\n",
              "      border-color: transparent;\n",
              "      border-bottom-color: var(--fill-color);\n",
              "      border-left-color: var(--fill-color);\n",
              "    }\n",
              "    20% {\n",
              "      border-color: transparent;\n",
              "      border-left-color: var(--fill-color);\n",
              "      border-top-color: var(--fill-color);\n",
              "    }\n",
              "    30% {\n",
              "      border-color: transparent;\n",
              "      border-left-color: var(--fill-color);\n",
              "      border-top-color: var(--fill-color);\n",
              "      border-right-color: var(--fill-color);\n",
              "    }\n",
              "    40% {\n",
              "      border-color: transparent;\n",
              "      border-right-color: var(--fill-color);\n",
              "      border-top-color: var(--fill-color);\n",
              "    }\n",
              "    60% {\n",
              "      border-color: transparent;\n",
              "      border-right-color: var(--fill-color);\n",
              "    }\n",
              "    80% {\n",
              "      border-color: transparent;\n",
              "      border-right-color: var(--fill-color);\n",
              "      border-bottom-color: var(--fill-color);\n",
              "    }\n",
              "    90% {\n",
              "      border-color: transparent;\n",
              "      border-bottom-color: var(--fill-color);\n",
              "    }\n",
              "  }\n",
              "</style>\n",
              "\n",
              "  <script>\n",
              "    async function quickchart(key) {\n",
              "      const quickchartButtonEl =\n",
              "        document.querySelector('#' + key + ' button');\n",
              "      quickchartButtonEl.disabled = true;  // To prevent multiple clicks.\n",
              "      quickchartButtonEl.classList.add('colab-df-spinner');\n",
              "      try {\n",
              "        const charts = await google.colab.kernel.invokeFunction(\n",
              "            'suggestCharts', [key], {});\n",
              "      } catch (error) {\n",
              "        console.error('Error during call to suggestCharts:', error);\n",
              "      }\n",
              "      quickchartButtonEl.classList.remove('colab-df-spinner');\n",
              "      quickchartButtonEl.classList.add('colab-df-quickchart-complete');\n",
              "    }\n",
              "    (() => {\n",
              "      let quickchartButtonEl =\n",
              "        document.querySelector('#df-8ec675a8-6ff4-42b8-86aa-34143359566f button');\n",
              "      quickchartButtonEl.style.display =\n",
              "        google.colab.kernel.accessAllowed ? 'block' : 'none';\n",
              "    })();\n",
              "  </script>\n",
              "</div>\n",
              "    </div>\n",
              "  </div>\n"
            ],
            "application/vnd.google.colaboratory.intrinsic+json": {
              "type": "dataframe",
              "summary": "{\n  \"name\": \"ab\",\n  \"rows\": 8,\n  \"fields\": [\n    {\n      \"column\": \"user_id\",\n      \"properties\": {\n        \"dtype\": \"number\",\n        \"std\": 296242.6583633456,\n        \"min\": 91210.91709081458,\n        \"max\": 945999.0,\n        \"num_unique_values\": 8,\n        \"samples\": [\n          787973.5388956806,\n          787932.5,\n          294480.0\n        ],\n        \"semantic_type\": \"\",\n        \"description\": \"\"\n      }\n    },\n    {\n      \"column\": \"converted\",\n      \"properties\": {\n        \"dtype\": \"number\",\n        \"std\": 104114.32951831713,\n        \"min\": 0.0,\n        \"max\": 294480.0,\n        \"num_unique_values\": 5,\n        \"samples\": [\n          0.1196583808747623,\n          1.0,\n          0.3245621827609625\n        ],\n        \"semantic_type\": \"\",\n        \"description\": \"\"\n      }\n    }\n  ]\n}"
            }
          },
          "metadata": {},
          "execution_count": 4
        }
      ]
    },
    {
      "cell_type": "code",
      "source": [
        "#checking data type\n",
        "ab.info()"
      ],
      "metadata": {
        "id": "H_h0Rm7eHxVs",
        "colab": {
          "base_uri": "https://localhost:8080/"
        },
        "outputId": "93821bdd-2ec0-4f37-92bb-53c2dc8a12ec"
      },
      "execution_count": 5,
      "outputs": [
        {
          "output_type": "stream",
          "name": "stdout",
          "text": [
            "<class 'pandas.core.frame.DataFrame'>\n",
            "RangeIndex: 294480 entries, 0 to 294479\n",
            "Data columns (total 5 columns):\n",
            " #   Column        Non-Null Count   Dtype \n",
            "---  ------        --------------   ----- \n",
            " 0   user_id       294480 non-null  int64 \n",
            " 1   timestamp     294480 non-null  object\n",
            " 2   group         294480 non-null  object\n",
            " 3   landing_page  294480 non-null  object\n",
            " 4   converted     294480 non-null  int64 \n",
            "dtypes: int64(2), object(3)\n",
            "memory usage: 11.2+ MB\n"
          ]
        }
      ]
    },
    {
      "cell_type": "code",
      "source": [
        "#checking missing values\n",
        "ab.isnull().sum()"
      ],
      "metadata": {
        "id": "5f7IaZndHzqp",
        "colab": {
          "base_uri": "https://localhost:8080/"
        },
        "outputId": "dc1fa96c-fe54-4a6e-8c66-37bf189d6ac6"
      },
      "execution_count": 6,
      "outputs": [
        {
          "output_type": "execute_result",
          "data": {
            "text/plain": [
              "user_id         0\n",
              "timestamp       0\n",
              "group           0\n",
              "landing_page    0\n",
              "converted       0\n",
              "dtype: int64"
            ]
          },
          "metadata": {},
          "execution_count": 6
        }
      ]
    },
    {
      "cell_type": "code",
      "source": [
        "#checking data duplicates\n",
        "ab_duplicate = ab.duplicated(['user_id'])\n",
        "print(ab_duplicate)"
      ],
      "metadata": {
        "id": "MECQJtmvM_Mp",
        "colab": {
          "base_uri": "https://localhost:8080/"
        },
        "outputId": "f0543009-4aee-4767-cb2c-d9772aaa041e"
      },
      "execution_count": 7,
      "outputs": [
        {
          "output_type": "stream",
          "name": "stdout",
          "text": [
            "0         False\n",
            "1         False\n",
            "2         False\n",
            "3         False\n",
            "4         False\n",
            "          ...  \n",
            "294475    False\n",
            "294476    False\n",
            "294477    False\n",
            "294478     True\n",
            "294479    False\n",
            "Length: 294480, dtype: bool\n"
          ]
        }
      ]
    },
    {
      "cell_type": "code",
      "source": [
        "print(ab.shape)"
      ],
      "metadata": {
        "id": "qmiCd9Y1PEWS",
        "colab": {
          "base_uri": "https://localhost:8080/"
        },
        "outputId": "d9d3d7c8-bc55-4dde-e2da-b891da205b58"
      },
      "execution_count": 8,
      "outputs": [
        {
          "output_type": "stream",
          "name": "stdout",
          "text": [
            "(294480, 5)\n"
          ]
        }
      ]
    },
    {
      "cell_type": "code",
      "source": [
        "ab = ab.drop_duplicates(subset='user_id', keep=False)\n",
        "print(ab.shape)"
      ],
      "metadata": {
        "id": "N0tnKNbZOz5L",
        "colab": {
          "base_uri": "https://localhost:8080/"
        },
        "outputId": "210c0ca4-abf3-4743-a80d-f892c30c8d1d"
      },
      "execution_count": 9,
      "outputs": [
        {
          "output_type": "stream",
          "name": "stdout",
          "text": [
            "(286690, 5)\n"
          ]
        }
      ]
    },
    {
      "cell_type": "code",
      "source": [
        "#mengelompokkan kategori grup dan kontrol\n",
        "ab[((ab['group'] == 'control') & (ab['landing_page'] == 'new_page')) | ((ab['group'] == 'treatment') & (ab['landing_page'] == 'old_page'))]"
      ],
      "metadata": {
        "id": "wzS1FS3PPOeN",
        "colab": {
          "base_uri": "https://localhost:8080/",
          "height": 53
        },
        "outputId": "de1e2835-d719-43af-b5c2-67080727017c"
      },
      "execution_count": 10,
      "outputs": [
        {
          "output_type": "execute_result",
          "data": {
            "text/plain": [
              "Empty DataFrame\n",
              "Columns: [user_id, timestamp, group, landing_page, converted]\n",
              "Index: []"
            ],
            "text/html": [
              "\n",
              "  <div id=\"df-47588888-a7af-4c42-9a18-75d68180900f\" class=\"colab-df-container\">\n",
              "    <div>\n",
              "<style scoped>\n",
              "    .dataframe tbody tr th:only-of-type {\n",
              "        vertical-align: middle;\n",
              "    }\n",
              "\n",
              "    .dataframe tbody tr th {\n",
              "        vertical-align: top;\n",
              "    }\n",
              "\n",
              "    .dataframe thead th {\n",
              "        text-align: right;\n",
              "    }\n",
              "</style>\n",
              "<table border=\"1\" class=\"dataframe\">\n",
              "  <thead>\n",
              "    <tr style=\"text-align: right;\">\n",
              "      <th></th>\n",
              "      <th>user_id</th>\n",
              "      <th>timestamp</th>\n",
              "      <th>group</th>\n",
              "      <th>landing_page</th>\n",
              "      <th>converted</th>\n",
              "    </tr>\n",
              "  </thead>\n",
              "  <tbody>\n",
              "  </tbody>\n",
              "</table>\n",
              "</div>\n",
              "    <div class=\"colab-df-buttons\">\n",
              "\n",
              "  <div class=\"colab-df-container\">\n",
              "    <button class=\"colab-df-convert\" onclick=\"convertToInteractive('df-47588888-a7af-4c42-9a18-75d68180900f')\"\n",
              "            title=\"Convert this dataframe to an interactive table.\"\n",
              "            style=\"display:none;\">\n",
              "\n",
              "  <svg xmlns=\"http://www.w3.org/2000/svg\" height=\"24px\" viewBox=\"0 -960 960 960\">\n",
              "    <path d=\"M120-120v-720h720v720H120Zm60-500h600v-160H180v160Zm220 220h160v-160H400v160Zm0 220h160v-160H400v160ZM180-400h160v-160H180v160Zm440 0h160v-160H620v160ZM180-180h160v-160H180v160Zm440 0h160v-160H620v160Z\"/>\n",
              "  </svg>\n",
              "    </button>\n",
              "\n",
              "  <style>\n",
              "    .colab-df-container {\n",
              "      display:flex;\n",
              "      gap: 12px;\n",
              "    }\n",
              "\n",
              "    .colab-df-convert {\n",
              "      background-color: #E8F0FE;\n",
              "      border: none;\n",
              "      border-radius: 50%;\n",
              "      cursor: pointer;\n",
              "      display: none;\n",
              "      fill: #1967D2;\n",
              "      height: 32px;\n",
              "      padding: 0 0 0 0;\n",
              "      width: 32px;\n",
              "    }\n",
              "\n",
              "    .colab-df-convert:hover {\n",
              "      background-color: #E2EBFA;\n",
              "      box-shadow: 0px 1px 2px rgba(60, 64, 67, 0.3), 0px 1px 3px 1px rgba(60, 64, 67, 0.15);\n",
              "      fill: #174EA6;\n",
              "    }\n",
              "\n",
              "    .colab-df-buttons div {\n",
              "      margin-bottom: 4px;\n",
              "    }\n",
              "\n",
              "    [theme=dark] .colab-df-convert {\n",
              "      background-color: #3B4455;\n",
              "      fill: #D2E3FC;\n",
              "    }\n",
              "\n",
              "    [theme=dark] .colab-df-convert:hover {\n",
              "      background-color: #434B5C;\n",
              "      box-shadow: 0px 1px 3px 1px rgba(0, 0, 0, 0.15);\n",
              "      filter: drop-shadow(0px 1px 2px rgba(0, 0, 0, 0.3));\n",
              "      fill: #FFFFFF;\n",
              "    }\n",
              "  </style>\n",
              "\n",
              "    <script>\n",
              "      const buttonEl =\n",
              "        document.querySelector('#df-47588888-a7af-4c42-9a18-75d68180900f button.colab-df-convert');\n",
              "      buttonEl.style.display =\n",
              "        google.colab.kernel.accessAllowed ? 'block' : 'none';\n",
              "\n",
              "      async function convertToInteractive(key) {\n",
              "        const element = document.querySelector('#df-47588888-a7af-4c42-9a18-75d68180900f');\n",
              "        const dataTable =\n",
              "          await google.colab.kernel.invokeFunction('convertToInteractive',\n",
              "                                                    [key], {});\n",
              "        if (!dataTable) return;\n",
              "\n",
              "        const docLinkHtml = 'Like what you see? Visit the ' +\n",
              "          '<a target=\"_blank\" href=https://colab.research.google.com/notebooks/data_table.ipynb>data table notebook</a>'\n",
              "          + ' to learn more about interactive tables.';\n",
              "        element.innerHTML = '';\n",
              "        dataTable['output_type'] = 'display_data';\n",
              "        await google.colab.output.renderOutput(dataTable, element);\n",
              "        const docLink = document.createElement('div');\n",
              "        docLink.innerHTML = docLinkHtml;\n",
              "        element.appendChild(docLink);\n",
              "      }\n",
              "    </script>\n",
              "  </div>\n",
              "\n",
              "    </div>\n",
              "  </div>\n"
            ],
            "application/vnd.google.colaboratory.intrinsic+json": {
              "type": "dataframe",
              "repr_error": "Out of range float values are not JSON compliant: nan"
            }
          },
          "metadata": {},
          "execution_count": 10
        }
      ]
    },
    {
      "cell_type": "markdown",
      "source": [
        "# A/B Testing"
      ],
      "metadata": {
        "id": "nxRJlJ_-fI_9"
      }
    },
    {
      "cell_type": "markdown",
      "source": [
        "**Membuat Hipotesis**\n",
        "<br>H0: Tidak ada perbedaan yang signifikan secara statistik antara halaman lama dan halaman baru</br>\n",
        "\n",
        "H1: Terdapat perbedaan yang signifikan secara statistik antara halaman lama dan halaman baru\n",
        "\n",
        "**Pengecekan Asumsi**\n",
        "<br>Asumsi Normalitas</br>\n",
        "H0: Asumsi distribusi normal terpenuhi\n",
        "<br>H1: Asumsi distribusi normal tidak terpenuhi\n",
        "Jika nilai p kurang dari 0,05, dianggap signifikan, dan uji non-parametrik (uji Mann-Whitney) akan digunakan. Jika tidak, uji parametrik (uji t)</br>\n",
        "\n",
        "**Homogenitas Varians**\n",
        "\n",
        "H0: Varian homogen\n",
        "<br>H1: Varian tidak homogen</br>\n",
        "\n",
        "**Kesimpulan**\n",
        "<br>Hipotesis akan disimpulkan berdasarkan nilai p yang diperoleh dari uji parametrik/non-parametrik yang akan kita lakukan. Hasil ini akan menjawab pertanyaan: Apakah ada perbedaan signifikan antara halaman baru dan halaman lama?</br>"
      ],
      "metadata": {
        "id": "P8VcPHwmVlHa"
      }
    },
    {
      "cell_type": "markdown",
      "source": [
        "**Memeriksa Jenis Data**"
      ],
      "metadata": {
        "id": "5jYb2NjCgUO4"
      }
    },
    {
      "cell_type": "code",
      "source": [
        "test_stat, pvalue = shapiro(ab.loc[ab[\"landing_page\"] == \"old_page\", \"converted\"])\n",
        "print(\"p-value:\",pvalue)\n",
        "print(\"test_stat:\",test_stat)"
      ],
      "metadata": {
        "id": "67O8CEub8bOX",
        "colab": {
          "base_uri": "https://localhost:8080/"
        },
        "outputId": "aba0e85d-c328-4529-a6c2-7b88def76d85"
      },
      "execution_count": 11,
      "outputs": [
        {
          "output_type": "stream",
          "name": "stdout",
          "text": [
            "p-value: 0.0\n",
            "test_stat: 0.3792334198951721\n"
          ]
        }
      ]
    },
    {
      "cell_type": "code",
      "source": [
        "test_stat, pvalue = shapiro(ab.loc[ab[\"landing_page\"] == \"new_page\", \"converted\"])\n",
        "print(\"p-value:\",pvalue)\n",
        "print(\"test_stat:\",test_stat)"
      ],
      "metadata": {
        "id": "I31KEXWUE9OH",
        "colab": {
          "base_uri": "https://localhost:8080/"
        },
        "outputId": "0a5998c5-ff47-484e-98a1-ae1ea74c85f3"
      },
      "execution_count": 12,
      "outputs": [
        {
          "output_type": "stream",
          "name": "stdout",
          "text": [
            "p-value: 0.0\n",
            "test_stat: 0.37685757875442505\n"
          ]
        }
      ]
    },
    {
      "cell_type": "code",
      "source": [
        "# Menentukan apakah data berasal dari distribusi normal\n",
        "alpha = 0.05\n",
        "if pvalue < alpha:\n",
        "    print(\"Data tidak berasal dari distribusi normal\")\n",
        "else:\n",
        "    print(\"Data berasal dari distribusi normal\")"
      ],
      "metadata": {
        "id": "ehSKgTCKGaFc",
        "colab": {
          "base_uri": "https://localhost:8080/"
        },
        "outputId": "9dbbec61-f342-4c2c-a4c5-65939a77fbf2"
      },
      "execution_count": 13,
      "outputs": [
        {
          "output_type": "stream",
          "name": "stdout",
          "text": [
            "Data tidak berasal dari distribusi normal\n"
          ]
        }
      ]
    },
    {
      "cell_type": "markdown",
      "source": [
        "Karena p-value < 0.05, maka asumsi distribusi normal tidak terpenuhi dan akan menggunakan Uji Mann-Whitney untuk langkah selanjutnya."
      ],
      "metadata": {
        "id": "QK7FErUX8Rao"
      }
    },
    {
      "cell_type": "code",
      "source": [
        "test_stat, pvalue = levene(ab.loc[ab[\"landing_page\"] == \"new_page\", \"converted\"],\n",
        "                           ab.loc[ab[\"landing_page\"] == \"old_page\", \"converted\"])\n",
        "print(\"p-value:\",pvalue)\n",
        "print(\"test_stat:\",test_stat)\n",
        "alpha = 0.05\n",
        "if pvalue < alpha:\n",
        "    print(\"Varians tidak homogen\")\n",
        "else:\n",
        "    print(\"Varians homogen\")"
      ],
      "metadata": {
        "colab": {
          "base_uri": "https://localhost:8080/"
        },
        "id": "rPLiT6Ik50mN",
        "outputId": "ad16056e-3140-4d9e-9ab4-ecc64495a220"
      },
      "execution_count": 14,
      "outputs": [
        {
          "output_type": "stream",
          "name": "stdout",
          "text": [
            "p-value: 0.2322897281547632\n",
            "test_stat: 1.4267917566652295\n",
            "Varians homogen\n"
          ]
        }
      ]
    },
    {
      "cell_type": "markdown",
      "source": [
        "**Uji Mann-Whitney**\n",
        "<br>Hipotesis:</br>\n",
        "\n",
        "**H0 (Hipotesis Nol):** Tidak terdapat perbedaan signifikan secara statistik antara halaman lama dan halaman baru.\n",
        "\n",
        "**H1 (Hipotesis Alternatif):** Terdapat perbedaan signifikan secara statistik antara halaman lama dan halaman baru.\n"
      ],
      "metadata": {
        "id": "dmkol3FyrkN0"
      }
    },
    {
      "cell_type": "code",
      "source": [
        "test_stat, pvalue = mannwhitneyu(ab.loc[ab[\"landing_page\"] == \"new_page\", \"converted\"],\n",
        "                                 ab.loc[ab[\"landing_page\"] == \"old_page\", \"converted\"])\n",
        "\n",
        "print('Test Stat = %.4f, p-value = %.4f' % (test_stat, pvalue))"
      ],
      "metadata": {
        "colab": {
          "base_uri": "https://localhost:8080/"
        },
        "id": "fMw6-RX6GjSA",
        "outputId": "72d1505d-16c3-4d3a-8193-59b525ad515e"
      },
      "execution_count": 15,
      "outputs": [
        {
          "output_type": "stream",
          "name": "stdout",
          "text": [
            "Test Stat = 10259026653.0000, p-value = 0.2323\n"
          ]
        }
      ]
    },
    {
      "cell_type": "code",
      "source": [
        "alpha = 0.05\n",
        "if pvalue > alpha:\n",
        "    print(\"Gagal menolak H0\")\n",
        "else:\n",
        "    print(\"H0 ditolak\")"
      ],
      "metadata": {
        "id": "aAc17XYnL2tN",
        "colab": {
          "base_uri": "https://localhost:8080/"
        },
        "outputId": "d8c2b5cd-7b2c-42c9-dddb-e4b81e577d7c"
      },
      "execution_count": 16,
      "outputs": [
        {
          "output_type": "stream",
          "name": "stdout",
          "text": [
            "Gagal menolak H0\n"
          ]
        }
      ]
    },
    {
      "cell_type": "markdown",
      "source": [
        "#Conclusion\n",
        "Berdasarkan hasil pengujian, **kita gagal menolak hipotesis nol (H0)**. Hal ini berarti **tidak ada perbedaan signifikan secara statistik** antara halaman lama dan halaman baru dalam hal perilaku pengguna dan keputusan pembelian.\n",
        "\n",
        "Dengan kata lain, berdasarkan data yang diperoleh, **belum dapat disimpulkan** bahwa halaman web baru dapat **meningkatkan jumlah pengguna berbayar** secara signifikan. Oleh karena itu, **belum tentu** halaman web baru tersebut dapat meningkatkan profit perusahaan.  "
      ],
      "metadata": {
        "id": "lYCnm-8w0YwD"
      }
    },
    {
      "cell_type": "markdown",
      "source": [
        "#Rekomendasi\n",
        "Langkah selanjutnya dapat melibatkan beberapa pertimbangan dan strategi berikut:\n",
        "<br></br>\n",
        "\n",
        "1. Analisis Lebih Lanjut:\n",
        "\n",
        "Periksa hasil secara lebih mendalam, seperti melihat statistik deskriptif, mengeksplorasi pola data, dan menganalisis segmentasi pengguna. Ini dapat membantu dalam pemahaman lebih lanjut terkait dengan perilaku pengguna pada kedua halaman.\n",
        "<br></br>\n",
        "2. Feedback Pengguna:\n",
        "\n",
        "Kumpulkan umpan balik dari pengguna terkait dengan halaman web baru. Mungkin ada aspek tertentu yang dapat diperbaiki atau dioptimalkan untuk meningkatkan pengalaman pengguna.\n",
        "<br></br>\n",
        "3. A/B Testing Iteratif:\n",
        "\n",
        "Jika mungkin, pertimbangkan untuk melakukan iterasi lebih lanjut dari uji A/B dengan memodifikasi halaman web baru berdasarkan temuan dan umpan balik sebelumnya.\n",
        "<br></br>\n",
        "4. Pengembangan Fitur atau Konten:\n",
        "\n",
        "Tinjau elemen-elemen tertentu pada halaman web baru yang mungkin mempengaruhi keputusan pembelian. Pertimbangkan pengembangan atau perubahan dalam hal fitur, desain, atau konten.\n",
        "<br></br>\n",
        "5. Pertimbangkan Faktor Eksternal:\n",
        "\n",
        "Tinjau faktor-faktor eksternal yang mungkin mempengaruhi hasil, seperti perubahan tren pasar, musim, atau perubahan dalam perilaku pengguna secara keseluruhan.\n",
        "<br></br>\n",
        "6. Melibatkan Tim Pemasaran dan Desain:\n",
        "\n",
        "Dapatkan wawasan dari tim pemasaran dan desain mengenai elemen-elemen apa yang mungkin berkontribusi pada keberhasilan atau kegagalan halaman web baru.\n",
        "<br></br>\n",
        "7. Analisis Biaya dan Manfaat:\n",
        "\n",
        "Tinjau kembali analisis biaya dan manfaat dari perubahan halaman web. Pertimbangkan apakah investasi lebih lanjut dalam pengembangan halaman web baru masih sebanding dengan potensi keuntungan yang mungkin diperoleh.\n",
        "<br></br>\n",
        "8. Pemilihan Metode Analisis Alternatif:\n",
        "\n",
        "Pertimbangkan metode analisis alternatif atau lebih canggih yang mungkin lebih sesuai dengan karakteristik data atau desain eksperimen tertentu.\n",
        "<br></br>\n",
        "9. Konsultasi Ahli Statistik:\n",
        "\n",
        "Jika mungkin, konsultasikan hasil dan metode dengan ahli statistik untuk mendapatkan pandangan dan rekomendasi yang lebih mendalam."
      ],
      "metadata": {
        "id": "olhE5JtkVJS_"
      }
    }
  ],
  "metadata": {
    "colab": {
      "provenance": [],
      "authorship_tag": "ABX9TyOMlIxeM4WnNb9tqj5zigNg",
      "include_colab_link": true
    },
    "kernelspec": {
      "display_name": "Python 3",
      "name": "python3"
    },
    "language_info": {
      "name": "python"
    }
  },
  "nbformat": 4,
  "nbformat_minor": 0
}